{
 "cells": [
  {
   "cell_type": "markdown",
   "metadata": {},
   "source": [
    "# Building a list of legislators by CAA"
   ]
  },
  {
   "cell_type": "markdown",
   "metadata": {},
   "source": [
    "Community Action Agencies serve all 77 counties in Oklahoma. Each agency may serve one or more counties. State House Members have legislative districts that may contain many counties, or be a small fraction of a single county. \n",
    "\n",
    "This notebook attempts to use the legislative districts and county names to match each agency to their respective State House Representative(s)."
   ]
  },
  {
   "cell_type": "code",
   "execution_count": 1,
   "metadata": {},
   "outputs": [],
   "source": [
    "import os\n",
    "import pandas as pd"
   ]
  },
  {
   "cell_type": "markdown",
   "metadata": {},
   "source": [
    "### Load the data from the url below: \n",
    "https://www.okhouse.gov/Documents/Legislative%20Districts%20by%20County%20and%20Town.xls\n",
    "\n",
    "Link found at the bottom of this page: https://www.okhouse.gov/Publications/GISDistrictMapsReports.aspx"
   ]
  },
  {
   "cell_type": "code",
   "execution_count": 2,
   "metadata": {},
   "outputs": [
    {
     "name": "stdout",
     "output_type": "stream",
     "text": [
      "<class 'pandas.core.frame.DataFrame'>\n",
      "RangeIndex: 821 entries, 0 to 820\n",
      "Data columns (total 5 columns):\n",
      "House District            821 non-null int64\n",
      "County                    821 non-null object\n",
      "Municipalities            821 non-null object\n",
      "Congressional District    821 non-null object\n",
      "Senate District           821 non-null object\n",
      "dtypes: int64(1), object(4)\n",
      "memory usage: 32.1+ KB\n"
     ]
    },
    {
     "data": {
      "text/html": [
       "<div>\n",
       "<style scoped>\n",
       "    .dataframe tbody tr th:only-of-type {\n",
       "        vertical-align: middle;\n",
       "    }\n",
       "\n",
       "    .dataframe tbody tr th {\n",
       "        vertical-align: top;\n",
       "    }\n",
       "\n",
       "    .dataframe thead th {\n",
       "        text-align: right;\n",
       "    }\n",
       "</style>\n",
       "<table border=\"1\" class=\"dataframe\">\n",
       "  <thead>\n",
       "    <tr style=\"text-align: right;\">\n",
       "      <th></th>\n",
       "      <th>House District</th>\n",
       "      <th>County</th>\n",
       "      <th>Municipalities</th>\n",
       "      <th>Congressional District</th>\n",
       "      <th>Senate District</th>\n",
       "    </tr>\n",
       "  </thead>\n",
       "  <tbody>\n",
       "    <tr>\n",
       "      <th>0</th>\n",
       "      <td>1</td>\n",
       "      <td>Le Flore</td>\n",
       "      <td>Talihina</td>\n",
       "      <td>2</td>\n",
       "      <td>5</td>\n",
       "    </tr>\n",
       "    <tr>\n",
       "      <th>1</th>\n",
       "      <td>1</td>\n",
       "      <td>McCurtain</td>\n",
       "      <td>Broken Bow</td>\n",
       "      <td>2</td>\n",
       "      <td>5</td>\n",
       "    </tr>\n",
       "    <tr>\n",
       "      <th>2</th>\n",
       "      <td>1</td>\n",
       "      <td>McCurtain</td>\n",
       "      <td>Garvin</td>\n",
       "      <td>2</td>\n",
       "      <td>5</td>\n",
       "    </tr>\n",
       "    <tr>\n",
       "      <th>3</th>\n",
       "      <td>1</td>\n",
       "      <td>McCurtain</td>\n",
       "      <td>Haworth</td>\n",
       "      <td>2</td>\n",
       "      <td>5</td>\n",
       "    </tr>\n",
       "    <tr>\n",
       "      <th>4</th>\n",
       "      <td>1</td>\n",
       "      <td>McCurtain</td>\n",
       "      <td>Idabel</td>\n",
       "      <td>2</td>\n",
       "      <td>5</td>\n",
       "    </tr>\n",
       "  </tbody>\n",
       "</table>\n",
       "</div>"
      ],
      "text/plain": [
       "   House District     County Municipalities Congressional District  \\\n",
       "0               1   Le Flore       Talihina                      2   \n",
       "1               1  McCurtain     Broken Bow                      2   \n",
       "2               1  McCurtain         Garvin                      2   \n",
       "3               1  McCurtain        Haworth                      2   \n",
       "4               1  McCurtain         Idabel                      2   \n",
       "\n",
       "  Senate District  \n",
       "0               5  \n",
       "1               5  \n",
       "2               5  \n",
       "3               5  \n",
       "4               5  "
      ]
     },
     "execution_count": 2,
     "metadata": {},
     "output_type": "execute_result"
    }
   ],
   "source": [
    "df = pd.read_excel('Legislative Districts by County and Town(1).xls', sheet_name='HD', header=0)\n",
    "df.info()\n",
    "df.head()"
   ]
  },
  {
   "cell_type": "markdown",
   "metadata": {},
   "source": [
    "### We'll do the House first. \n",
    "\n",
    "So we will drop all of the columns we don't need. We'll do this by creating a new dataframe. This means we will have duplicate rows, so we will drop those too."
   ]
  },
  {
   "cell_type": "code",
   "execution_count": 25,
   "metadata": {
    "scrolled": true
   },
   "outputs": [
    {
     "name": "stdout",
     "output_type": "stream",
     "text": [
      "<class 'pandas.core.frame.DataFrame'>\n",
      "RangeIndex: 821 entries, 0 to 820\n",
      "Data columns (total 2 columns):\n",
      "House District    821 non-null int64\n",
      "County            821 non-null object\n",
      "dtypes: int64(1), object(1)\n",
      "memory usage: 12.9+ KB\n"
     ]
    },
    {
     "data": {
      "text/html": [
       "<div>\n",
       "<style scoped>\n",
       "    .dataframe tbody tr th:only-of-type {\n",
       "        vertical-align: middle;\n",
       "    }\n",
       "\n",
       "    .dataframe tbody tr th {\n",
       "        vertical-align: top;\n",
       "    }\n",
       "\n",
       "    .dataframe thead th {\n",
       "        text-align: right;\n",
       "    }\n",
       "</style>\n",
       "<table border=\"1\" class=\"dataframe\">\n",
       "  <thead>\n",
       "    <tr style=\"text-align: right;\">\n",
       "      <th></th>\n",
       "      <th>House District</th>\n",
       "      <th>County</th>\n",
       "    </tr>\n",
       "  </thead>\n",
       "  <tbody>\n",
       "    <tr>\n",
       "      <th>0</th>\n",
       "      <td>1</td>\n",
       "      <td>Le Flore</td>\n",
       "    </tr>\n",
       "    <tr>\n",
       "      <th>1</th>\n",
       "      <td>1</td>\n",
       "      <td>McCurtain</td>\n",
       "    </tr>\n",
       "    <tr>\n",
       "      <th>2</th>\n",
       "      <td>1</td>\n",
       "      <td>McCurtain</td>\n",
       "    </tr>\n",
       "    <tr>\n",
       "      <th>3</th>\n",
       "      <td>1</td>\n",
       "      <td>McCurtain</td>\n",
       "    </tr>\n",
       "    <tr>\n",
       "      <th>4</th>\n",
       "      <td>1</td>\n",
       "      <td>McCurtain</td>\n",
       "    </tr>\n",
       "  </tbody>\n",
       "</table>\n",
       "</div>"
      ],
      "text/plain": [
       "   House District     County\n",
       "0               1   Le Flore\n",
       "1               1  McCurtain\n",
       "2               1  McCurtain\n",
       "3               1  McCurtain\n",
       "4               1  McCurtain"
      ]
     },
     "execution_count": 25,
     "metadata": {},
     "output_type": "execute_result"
    }
   ],
   "source": [
    "df2 = df[['House District', 'County']]\n",
    "df2.info()\n",
    "df2.head()"
   ]
  },
  {
   "cell_type": "code",
   "execution_count": 26,
   "metadata": {
    "scrolled": true
   },
   "outputs": [
    {
     "name": "stdout",
     "output_type": "stream",
     "text": [
      "<class 'pandas.core.frame.DataFrame'>\n",
      "Int64Index: 210 entries, 0 to 816\n",
      "Data columns (total 2 columns):\n",
      "House District    210 non-null int64\n",
      "County            210 non-null object\n",
      "dtypes: int64(1), object(1)\n",
      "memory usage: 4.9+ KB\n"
     ]
    },
    {
     "data": {
      "text/html": [
       "<div>\n",
       "<style scoped>\n",
       "    .dataframe tbody tr th:only-of-type {\n",
       "        vertical-align: middle;\n",
       "    }\n",
       "\n",
       "    .dataframe tbody tr th {\n",
       "        vertical-align: top;\n",
       "    }\n",
       "\n",
       "    .dataframe thead th {\n",
       "        text-align: right;\n",
       "    }\n",
       "</style>\n",
       "<table border=\"1\" class=\"dataframe\">\n",
       "  <thead>\n",
       "    <tr style=\"text-align: right;\">\n",
       "      <th></th>\n",
       "      <th>House District</th>\n",
       "      <th>County</th>\n",
       "    </tr>\n",
       "  </thead>\n",
       "  <tbody>\n",
       "    <tr>\n",
       "      <th>0</th>\n",
       "      <td>1</td>\n",
       "      <td>Le Flore</td>\n",
       "    </tr>\n",
       "    <tr>\n",
       "      <th>1</th>\n",
       "      <td>1</td>\n",
       "      <td>McCurtain</td>\n",
       "    </tr>\n",
       "    <tr>\n",
       "      <th>9</th>\n",
       "      <td>2</td>\n",
       "      <td>Sequoyah</td>\n",
       "    </tr>\n",
       "    <tr>\n",
       "      <th>16</th>\n",
       "      <td>3</td>\n",
       "      <td>Le Flore</td>\n",
       "    </tr>\n",
       "    <tr>\n",
       "      <th>27</th>\n",
       "      <td>4</td>\n",
       "      <td>Cherokee</td>\n",
       "    </tr>\n",
       "  </tbody>\n",
       "</table>\n",
       "</div>"
      ],
      "text/plain": [
       "    House District     County\n",
       "0                1   Le Flore\n",
       "1                1  McCurtain\n",
       "9                2   Sequoyah\n",
       "16               3   Le Flore\n",
       "27               4   Cherokee"
      ]
     },
     "execution_count": 26,
     "metadata": {},
     "output_type": "execute_result"
    }
   ],
   "source": [
    "df2 = df2.drop_duplicates()\n",
    "df2.info()\n",
    "df2.head()"
   ]
  },
  {
   "cell_type": "markdown",
   "metadata": {},
   "source": [
    "### Load in the list of House Members from the url below:\n",
    "\n",
    "https://www.okhouse.gov/Members/Default.aspx\n",
    "\n",
    "Export the list to Excel. It is in an odd format, and the file says it's corrupted when you try to open it. Copy and paste the info into a .csv and save it without all the odd formatting. "
   ]
  },
  {
   "cell_type": "code",
   "execution_count": 27,
   "metadata": {},
   "outputs": [
    {
     "name": "stdout",
     "output_type": "stream",
     "text": [
      "<class 'pandas.core.frame.DataFrame'>\n",
      "RangeIndex: 101 entries, 0 to 100\n",
      "Data columns (total 6 columns):\n",
      "Member      101 non-null object\n",
      "District    101 non-null int64\n",
      "Party       101 non-null object\n",
      "Phone       101 non-null object\n",
      "Room        101 non-null object\n",
      "LA Name     101 non-null object\n",
      "dtypes: int64(1), object(5)\n",
      "memory usage: 4.8+ KB\n"
     ]
    },
    {
     "data": {
      "text/html": [
       "<div>\n",
       "<style scoped>\n",
       "    .dataframe tbody tr th:only-of-type {\n",
       "        vertical-align: middle;\n",
       "    }\n",
       "\n",
       "    .dataframe tbody tr th {\n",
       "        vertical-align: top;\n",
       "    }\n",
       "\n",
       "    .dataframe thead th {\n",
       "        text-align: right;\n",
       "    }\n",
       "</style>\n",
       "<table border=\"1\" class=\"dataframe\">\n",
       "  <thead>\n",
       "    <tr style=\"text-align: right;\">\n",
       "      <th></th>\n",
       "      <th>Member</th>\n",
       "      <th>District</th>\n",
       "      <th>Party</th>\n",
       "      <th>Phone</th>\n",
       "      <th>Room</th>\n",
       "      <th>LA Name</th>\n",
       "    </tr>\n",
       "  </thead>\n",
       "  <tbody>\n",
       "    <tr>\n",
       "      <th>0</th>\n",
       "      <td>Albright, Kelly</td>\n",
       "      <td>95</td>\n",
       "      <td>D</td>\n",
       "      <td>(405) 557-7314</td>\n",
       "      <td>539</td>\n",
       "      <td>Kaylee Rains-Saucedo*</td>\n",
       "    </tr>\n",
       "    <tr>\n",
       "      <th>1</th>\n",
       "      <td>Baker, Rhonda</td>\n",
       "      <td>60</td>\n",
       "      <td>R</td>\n",
       "      <td>(405) 557-7311</td>\n",
       "      <td>202A</td>\n",
       "      <td>Julie Jackson</td>\n",
       "    </tr>\n",
       "    <tr>\n",
       "      <th>2</th>\n",
       "      <td>Bell, Merleyn</td>\n",
       "      <td>45</td>\n",
       "      <td>D</td>\n",
       "      <td>(405) 557-7386</td>\n",
       "      <td>539B</td>\n",
       "      <td>Maegan Hansen*</td>\n",
       "    </tr>\n",
       "    <tr>\n",
       "      <th>3</th>\n",
       "      <td>Bennett, Forrest</td>\n",
       "      <td>92</td>\n",
       "      <td>D</td>\n",
       "      <td>(405) 557-7404</td>\n",
       "      <td>542</td>\n",
       "      <td>Connie Riley</td>\n",
       "    </tr>\n",
       "    <tr>\n",
       "      <th>4</th>\n",
       "      <td>Blancett, Meloyde</td>\n",
       "      <td>78</td>\n",
       "      <td>D</td>\n",
       "      <td>(405) 557-7334</td>\n",
       "      <td>543</td>\n",
       "      <td>Meagan Hansen</td>\n",
       "    </tr>\n",
       "  </tbody>\n",
       "</table>\n",
       "</div>"
      ],
      "text/plain": [
       "               Member  District Party           Phone  Room  \\\n",
       "0    Albright, Kelly         95     D  (405) 557-7314   539   \n",
       "1      Baker, Rhonda         60     R  (405) 557-7311  202A   \n",
       "2      Bell, Merleyn         45     D  (405) 557-7386  539B   \n",
       "3   Bennett, Forrest         92     D  (405) 557-7404   542   \n",
       "4  Blancett, Meloyde         78     D  (405) 557-7334   543   \n",
       "\n",
       "                 LA Name  \n",
       "0  Kaylee Rains-Saucedo*  \n",
       "1          Julie Jackson  \n",
       "2         Maegan Hansen*  \n",
       "3           Connie Riley  \n",
       "4          Meagan Hansen  "
      ]
     },
     "execution_count": 27,
     "metadata": {},
     "output_type": "execute_result"
    }
   ],
   "source": [
    "df3 = pd.read_csv('memberslist.csv')\n",
    "df3.info()\n",
    "df3.head()"
   ]
  },
  {
   "cell_type": "markdown",
   "metadata": {},
   "source": [
    "### Add a new copy of the 'County' column and name it 'agency'.\n",
    "\n",
    "We will replace the county names with their agency's names with df.series.replace()"
   ]
  },
  {
   "cell_type": "code",
   "execution_count": 28,
   "metadata": {},
   "outputs": [
    {
     "name": "stdout",
     "output_type": "stream",
     "text": [
      "<class 'pandas.core.frame.DataFrame'>\n",
      "Int64Index: 210 entries, 0 to 816\n",
      "Data columns (total 3 columns):\n",
      "House District    210 non-null int64\n",
      "County            210 non-null object\n",
      "agency            210 non-null object\n",
      "dtypes: int64(1), object(2)\n",
      "memory usage: 6.6+ KB\n"
     ]
    }
   ],
   "source": [
    "df2['agency'] = df2['County']\n",
    "df2.info()"
   ]
  },
  {
   "cell_type": "code",
   "execution_count": 29,
   "metadata": {},
   "outputs": [
    {
     "name": "stdout",
     "output_type": "stream",
     "text": [
      "<class 'pandas.core.frame.DataFrame'>\n",
      "Int64Index: 210 entries, 0 to 816\n",
      "Data columns (total 3 columns):\n",
      "House District    210 non-null int64\n",
      "County            210 non-null object\n",
      "agency            210 non-null object\n",
      "dtypes: int64(1), object(2)\n",
      "memory usage: 6.6+ KB\n"
     ]
    },
    {
     "data": {
      "text/html": [
       "<div>\n",
       "<style scoped>\n",
       "    .dataframe tbody tr th:only-of-type {\n",
       "        vertical-align: middle;\n",
       "    }\n",
       "\n",
       "    .dataframe tbody tr th {\n",
       "        vertical-align: top;\n",
       "    }\n",
       "\n",
       "    .dataframe thead th {\n",
       "        text-align: right;\n",
       "    }\n",
       "</style>\n",
       "<table border=\"1\" class=\"dataframe\">\n",
       "  <thead>\n",
       "    <tr style=\"text-align: right;\">\n",
       "      <th></th>\n",
       "      <th>House District</th>\n",
       "      <th>County</th>\n",
       "      <th>agency</th>\n",
       "    </tr>\n",
       "  </thead>\n",
       "  <tbody>\n",
       "    <tr>\n",
       "      <th>0</th>\n",
       "      <td>1</td>\n",
       "      <td>Le Flore</td>\n",
       "      <td>KI BOIS</td>\n",
       "    </tr>\n",
       "    <tr>\n",
       "      <th>1</th>\n",
       "      <td>1</td>\n",
       "      <td>McCurtain</td>\n",
       "      <td>Little Dixie</td>\n",
       "    </tr>\n",
       "    <tr>\n",
       "      <th>9</th>\n",
       "      <td>2</td>\n",
       "      <td>Sequoyah</td>\n",
       "      <td>KI BOIS</td>\n",
       "    </tr>\n",
       "    <tr>\n",
       "      <th>16</th>\n",
       "      <td>3</td>\n",
       "      <td>Le Flore</td>\n",
       "      <td>KI BOIS</td>\n",
       "    </tr>\n",
       "    <tr>\n",
       "      <th>27</th>\n",
       "      <td>4</td>\n",
       "      <td>Cherokee</td>\n",
       "      <td>NEOCAA</td>\n",
       "    </tr>\n",
       "  </tbody>\n",
       "</table>\n",
       "</div>"
      ],
      "text/plain": [
       "    House District     County        agency\n",
       "0                1   Le Flore       KI BOIS\n",
       "1                1  McCurtain  Little Dixie\n",
       "9                2   Sequoyah       KI BOIS\n",
       "16               3   Le Flore       KI BOIS\n",
       "27               4   Cherokee        NEOCAA"
      ]
     },
     "execution_count": 29,
     "metadata": {},
     "output_type": "execute_result"
    }
   ],
   "source": [
    "df2.agency = df2.agency.replace(['Bryan',\n",
    "                              'Carter',\n",
    "                              'Coal',\n",
    "                              'Love',\n",
    "                              'Pontotoc'], 'Big 5') \\\n",
    "                    .replace(['Canadian',\n",
    "                              'Oklahoma'], 'CAAOKC') \\\n",
    "                    .replace(['Beckham',\n",
    "                              'Cotton',\n",
    "                              'Jefferson',\n",
    "                              'Kiowa',\n",
    "                              'Roger Mills',\n",
    "                              'Tillman',\n",
    "                              'Washita'], 'CADC') \\\n",
    "                    .replace(['Tulsa'], 'CAP Tulsa') \\\n",
    "                    .replace(['Mayes',\n",
    "                              'Nowata',\n",
    "                              'Rogers',\n",
    "                              'Wagoner',\n",
    "                              'Washington'], 'CARD') \\\n",
    "                    .replace(['Garfield',\n",
    "                              'Grant'], 'CDSA') \\\n",
    "                    .replace(['Cleveland',\n",
    "                              'Lincoln',\n",
    "                              'Logan',\n",
    "                              'Payne',\n",
    "                              'Pottawatomie',\n",
    "                              'Seminole'], 'COCAA') \\\n",
    "                    .replace(['Garvin',\n",
    "                              'McClain',\n",
    "                              'Stephens'], 'Delta') \\\n",
    "                    .replace(['Hughes',\n",
    "                              'McIntosh',\n",
    "                              'Okfuskee',\n",
    "                              'Okmulgee'], 'DFCAF') \\\n",
    "                    .replace(['Comanche'], 'GPIF') \\\n",
    "                    .replace(['Atoka',\n",
    "                              'Johnston',\n",
    "                              'Marshall',\n",
    "                              'Murray'], 'INCA') \\\n",
    "                    .replace(['Haskell',\n",
    "                              'Latimer',\n",
    "                              'Le Flore',\n",
    "                              'Muskogee',\n",
    "                              'Pittsburg',\n",
    "                              'Sequoyah'], 'KI BOIS') \\\n",
    "                    .replace(['Choctaw',\n",
    "                              'McCurtain',\n",
    "                              'Pushmataha'], 'Little Dixie') \\\n",
    "                    .replace(['Adair',\n",
    "                              'Cherokee',\n",
    "                              'Craig ',\n",
    "                              'Delaware',\n",
    "                              'Ottawa'], 'NEOCAA') \\\n",
    "                    .replace(['Alfalfa ',\n",
    "                              'Beaver',\n",
    "                              'Blaine',\n",
    "                              'Cimarron',\n",
    "                              'Custer',\n",
    "                              'Dewey',\n",
    "                              'Ellis',\n",
    "                              'Harper',\n",
    "                              'Kingfisher',\n",
    "                              'Major',\n",
    "                              'Texas',\n",
    "                              'Woods',\n",
    "                              'Woodward'], 'Opportunities') \\\n",
    "                    .replace(['Greer',\n",
    "                              'Harmon',\n",
    "                              'Jackson'], 'SOCAG') \\\n",
    "                    .replace(['Creek',\n",
    "                              'Kay',\n",
    "                              'Noble ',\n",
    "                              'Osage',\n",
    "                              'Pawnee'], 'UCAP') \\\n",
    "                    .replace(['Caddo',\n",
    "                              'Grady'], 'WVCAC')\n",
    "\n",
    "df2.info()\n",
    "df2.head()"
   ]
  },
  {
   "cell_type": "markdown",
   "metadata": {},
   "source": [
    "Check to make sure they were all replaced. Fix strings and rerun the .replace() if necessary. "
   ]
  },
  {
   "cell_type": "code",
   "execution_count": 30,
   "metadata": {},
   "outputs": [
    {
     "data": {
      "text/plain": [
       "array(['KI BOIS', 'Little Dixie', 'NEOCAA', 'CARD', 'UCAP', 'CAP Tulsa',\n",
       "       'DFCAF', 'Big 5', 'INCA', 'COCAA', 'Delta', 'CAAOKC', 'CDSA',\n",
       "       'Opportunities', 'WVCAC', 'CADC', 'SOCAG', 'GPIF'], dtype=object)"
      ]
     },
     "execution_count": 30,
     "metadata": {},
     "output_type": "execute_result"
    }
   ],
   "source": [
    "df2.agency.unique()"
   ]
  },
  {
   "cell_type": "markdown",
   "metadata": {},
   "source": [
    "### Add new columns from the members list. \n",
    "\n",
    "The columns are:\n",
    "\n",
    "'Member' - House Member's first and last name\n",
    "'Party' - party affiliation, D or R\n",
    "'Phone' - Capitol office phone number\n",
    "'Room, - Capitol room #\n",
    "'LA Name' - the Legislative Assistant's name\n",
    "\n",
    "First add copies of the 'House District' column and name them for each of the columns above. We will create a new dataframe from each column and 'House District'. Use the 'House District' column as the index with .set_index() function. Convert the dataframe to a dictionary with .to_dict(), then pass the dict to df.s.replace().\n",
    "\n",
    "The 'House District' column must be .astype(int) to convert to dict."
   ]
  },
  {
   "cell_type": "code",
   "execution_count": null,
   "metadata": {},
   "outputs": [],
   "source": [
    "###'House District' dtype is already int, therefore we do not need .astype(int, errors='ignore')\n",
    "##\n",
    "#\n",
    "\n",
    "#df2['Member'] = df2['House District'].astype(int, errors='ignore')\n",
    "#df2['Party'] = df2['House District'].astype(int, errors='ignore')\n",
    "#df2['Phone'] = df2['House District'].astype(int, errors='ignore')\n",
    "#df2['Room'] = df2['House District'].astype(int, errors='ignore')\n",
    "#df2['LA Name'] = df2['House District'].astype(int, errors='ignore')\n",
    "\n",
    "df2['Member'] = df2['House District']\n",
    "df2['Party'] = df2['House District']\n",
    "df2['Phone'] = df2['House District']\n",
    "df2['Room'] = df2['House District']\n",
    "df2['LA Name'] = df2['House District']\n",
    "\n",
    "df2.info()\n",
    "df2.head()"
   ]
  },
  {
   "cell_type": "markdown",
   "metadata": {},
   "source": [
    "### Copy result minus the initial {'Column Name'} and paste after to_replace= \n",
    "\n",
    "Copying entire result with the column name and extra brackets will not work with the replace function."
   ]
  },
  {
   "cell_type": "code",
   "execution_count": 75,
   "metadata": {
    "scrolled": false
   },
   "outputs": [
    {
     "name": "stdout",
     "output_type": "stream",
     "text": [
      "{'LA Name': {95: 'Kaylee Rains-Saucedo*', 60: 'Julie Jackson', 45: 'Maegan Hansen*', 92: 'Connie Riley', 78: 'Meagan Hansen', 67: 'Sandy Cunningham*', 51: 'Debbie Grogis', 83: 'Kaylee Rains-Saucedo*', 71: 'Debra Pearson-Matthews*', 35: 'Lacy Skrapka*', 70: 'Jan Tupps', 40: 'Ashley Billups', 63: 'Leslie Smith-Haddad*', 20: 'Latoya Alexander*', 6: 'Melanie Morriss*', 41: 'Marlene Burbank-Jones*', 98: 'Saprina Croshwait*', 69: 'Jan Tupps', 93: 'Abigail Weigand', 88: 'Meagan Hansen', 90: 'Kaye Beach', 16: 'Debbie Grogis', 11: 'Sawyer Campbell*', 76: 'Sawyer Campbell*', 13: 'Vicki Adams', 94: 'Debra Pearson-Matthews*', 8: 'Carla Ray', 73: 'Amari Kimbro', 17: 'Ashley Stuart*', 86: 'Martha Perry*', 49: 'Saprina Crostwait', 65: 'Julie Jackson', 29: 'Sonya Barker', 47: 'Dee Lemon*', 19: 'LaToya Alexander', 25: 'Kaye Beach*', 91: 'Zach Swift', 26: 'Joyce Butler', 3: 'Sawyer Campbell*', 30: 'Sonya Barker', 9: 'Charlotte Maughan', 7: 'Louise Aldridge', 97: 'Amari Kimbro*', 37: 'Vicki Adams*', 101: 'Dee Lemon*', 75: 'Zach Swift*', 39: 'Stefne Miller', 80: 'Zack Swift*', 53: 'Julie Jackson', 22: 'Tonya Pogue', 12: 'Tanner Davis', 50: 'Jan Tupps', 4: 'Connie Riley', 82: 'Charlotte Maughan*', 31: 'Reed Powell*', 96: 'Reed Powell', 85: 'Sarah Rivin', 58: 'Pat Timberlake', 72: 'Connie Riley*', 66: 'Sandy Cunningham', 23: 'Kathy Hubbart', 2: 'Martha Perry*', 52: 'Melanie Morriss', 81: 'Stefne Miller', 62: 'Pat Timberlake*', 61: 'Elizabeth Smith*', 56: 'Abigail Weigand', 38: 'Ashley Stuart', 24: 'Tanner Davis*', 99: 'Amari Kimbro*', 79: 'Louise Aldridge*', 15: 'Jordan Johnston*', 34: 'Sarah Rivin*', 21: 'Elizabeth Smith', 36: 'Lacy Skrapka', 42: 'Saprina Crostwait*', 46: 'Amari Kimbro', 55: 'Jordan Johnston', 59: 'Natasha Holliday', 68: 'Jan Tupps*', 18: 'Lacy Skrapka*', 14: 'Carla Ray*', 100: 'Carla Ray*', 43: 'Melanie Morriss*', 27: 'Joyce Butler*', 89: 'Sarah Rivin', 10: 'Natasha Holliday*', 1: 'Leslie Smith-Haddad', 33: 'Kathy Hubbart*', 28: 'Martha Perry', 48: 'Sonya Barker*', 74: 'Natasha Holliday*', 44: 'Debra Pearson-Matthews', 77: 'Abigail Weigand*', 87: 'Louise Aldridge*', 32: 'Tammie Wright', 5: 'Tanner Davis', 54: 'Marlene Burbank-Jones', 84: 'Julie Jackson', 64: 'Glenda Mollman*', 57: 'Dee Lemon'}}\n"
     ]
    }
   ],
   "source": [
    "#a = df3[['Member','District']].set_index('District').to_dict()\n",
    "#print(a)\n",
    "\n",
    "#b = df3[['Party','District']].set_index('District').to_dict()\n",
    "#print(b)\n",
    "\n",
    "#c = df3[['Phone','District']].set_index('District').to_dict()\n",
    "#print(c)\n",
    "\n",
    "#d = df3[['Room','District']].set_index('District').to_dict()\n",
    "#print(d)\n",
    "\n",
    "e = df3[['LA Name','District']].set_index('District').to_dict()\n",
    "print(e)"
   ]
  },
  {
   "cell_type": "code",
   "execution_count": 76,
   "metadata": {},
   "outputs": [
    {
     "name": "stdout",
     "output_type": "stream",
     "text": [
      "<class 'pandas.core.frame.DataFrame'>\n",
      "Int64Index: 210 entries, 0 to 816\n",
      "Data columns (total 8 columns):\n",
      "House District    210 non-null int64\n",
      "County            210 non-null object\n",
      "agency            210 non-null object\n",
      "Member            210 non-null object\n",
      "Party             210 non-null object\n",
      "Phone             210 non-null object\n",
      "Room              210 non-null object\n",
      "LA Name           210 non-null object\n",
      "dtypes: int64(1), object(7)\n",
      "memory usage: 24.8+ KB\n"
     ]
    },
    {
     "data": {
      "text/html": [
       "<div>\n",
       "<style scoped>\n",
       "    .dataframe tbody tr th:only-of-type {\n",
       "        vertical-align: middle;\n",
       "    }\n",
       "\n",
       "    .dataframe tbody tr th {\n",
       "        vertical-align: top;\n",
       "    }\n",
       "\n",
       "    .dataframe thead th {\n",
       "        text-align: right;\n",
       "    }\n",
       "</style>\n",
       "<table border=\"1\" class=\"dataframe\">\n",
       "  <thead>\n",
       "    <tr style=\"text-align: right;\">\n",
       "      <th></th>\n",
       "      <th>House District</th>\n",
       "      <th>County</th>\n",
       "      <th>agency</th>\n",
       "      <th>Member</th>\n",
       "      <th>Party</th>\n",
       "      <th>Phone</th>\n",
       "      <th>Room</th>\n",
       "      <th>LA Name</th>\n",
       "    </tr>\n",
       "  </thead>\n",
       "  <tbody>\n",
       "    <tr>\n",
       "      <th>0</th>\n",
       "      <td>1</td>\n",
       "      <td>Le Flore</td>\n",
       "      <td>KI BOIS</td>\n",
       "      <td>Tadlock, Johnny</td>\n",
       "      <td>R</td>\n",
       "      <td>(405) 557-7363</td>\n",
       "      <td>409</td>\n",
       "      <td>Leslie Smith-Haddad</td>\n",
       "    </tr>\n",
       "    <tr>\n",
       "      <th>1</th>\n",
       "      <td>1</td>\n",
       "      <td>McCurtain</td>\n",
       "      <td>Little Dixie</td>\n",
       "      <td>Tadlock, Johnny</td>\n",
       "      <td>R</td>\n",
       "      <td>(405) 557-7363</td>\n",
       "      <td>409</td>\n",
       "      <td>Leslie Smith-Haddad</td>\n",
       "    </tr>\n",
       "    <tr>\n",
       "      <th>9</th>\n",
       "      <td>2</td>\n",
       "      <td>Sequoyah</td>\n",
       "      <td>KI BOIS</td>\n",
       "      <td>Olsen, Jim</td>\n",
       "      <td>R</td>\n",
       "      <td>(405) 557-7315</td>\n",
       "      <td>329B</td>\n",
       "      <td>Martha Perry*</td>\n",
       "    </tr>\n",
       "    <tr>\n",
       "      <th>16</th>\n",
       "      <td>3</td>\n",
       "      <td>Le Flore</td>\n",
       "      <td>KI BOIS</td>\n",
       "      <td>Kiger, Lundy</td>\n",
       "      <td>R</td>\n",
       "      <td>(405) 557-7413</td>\n",
       "      <td>405</td>\n",
       "      <td>Sawyer Campbell*</td>\n",
       "    </tr>\n",
       "    <tr>\n",
       "      <th>27</th>\n",
       "      <td>4</td>\n",
       "      <td>Cherokee</td>\n",
       "      <td>NEOCAA</td>\n",
       "      <td>Meredith, Matt</td>\n",
       "      <td>D</td>\n",
       "      <td>(405) 557-7408</td>\n",
       "      <td>541</td>\n",
       "      <td>Connie Riley</td>\n",
       "    </tr>\n",
       "  </tbody>\n",
       "</table>\n",
       "</div>"
      ],
      "text/plain": [
       "    House District     County        agency            Member Party  \\\n",
       "0                1   Le Flore       KI BOIS  Tadlock, Johnny      R   \n",
       "1                1  McCurtain  Little Dixie  Tadlock, Johnny      R   \n",
       "9                2   Sequoyah       KI BOIS       Olsen, Jim      R   \n",
       "16               3   Le Flore       KI BOIS     Kiger, Lundy      R   \n",
       "27               4   Cherokee        NEOCAA   Meredith, Matt      D   \n",
       "\n",
       "             Phone  Room              LA Name  \n",
       "0   (405) 557-7363   409  Leslie Smith-Haddad  \n",
       "1   (405) 557-7363   409  Leslie Smith-Haddad  \n",
       "9   (405) 557-7315  329B        Martha Perry*  \n",
       "16  (405) 557-7413   405     Sawyer Campbell*  \n",
       "27  (405) 557-7408   541         Connie Riley  "
      ]
     },
     "execution_count": 76,
     "metadata": {},
     "output_type": "execute_result"
    }
   ],
   "source": [
    "df2['LA Name'] = df2['LA Name'].replace(to_replace={95: 'Kaylee Rains-Saucedo*', 60: 'Julie Jackson', 45: 'Maegan Hansen*', 92: 'Connie Riley', 78: 'Meagan Hansen', 67: 'Sandy Cunningham*', 51: 'Debbie Grogis', 83: 'Kaylee Rains-Saucedo*', 71: 'Debra Pearson-Matthews*', 35: 'Lacy Skrapka*', 70: 'Jan Tupps', 40: 'Ashley Billups', 63: 'Leslie Smith-Haddad*', 20: 'Latoya Alexander*', 6: 'Melanie Morriss*', 41: 'Marlene Burbank-Jones*', 98: 'Saprina Croshwait*', 69: 'Jan Tupps', 93: 'Abigail Weigand', 88: 'Meagan Hansen', 90: 'Kaye Beach', 16: 'Debbie Grogis', 11: 'Sawyer Campbell*', 76: 'Sawyer Campbell*', 13: 'Vicki Adams', 94: 'Debra Pearson-Matthews*', 8: 'Carla Ray', 73: 'Amari Kimbro', 17: 'Ashley Stuart*', 86: 'Martha Perry*', 49: 'Saprina Crostwait', 65: 'Julie Jackson', 29: 'Sonya Barker', 47: 'Dee Lemon*', 19: 'LaToya Alexander', 25: 'Kaye Beach*', 91: 'Zach Swift', 26: 'Joyce Butler', 3: 'Sawyer Campbell*', 30: 'Sonya Barker', 9: 'Charlotte Maughan', 7: 'Louise Aldridge', 97: 'Amari Kimbro*', 37: 'Vicki Adams*', 101: 'Dee Lemon*', 75: 'Zach Swift*', 39: 'Stefne Miller', 80: 'Zack Swift*', 53: 'Julie Jackson', 22: 'Tonya Pogue', 12: 'Tanner Davis', 50: 'Jan Tupps', 4: 'Connie Riley', 82: 'Charlotte Maughan*', 31: 'Reed Powell*', 96: 'Reed Powell', 85: 'Sarah Rivin', 58: 'Pat Timberlake', 72: 'Connie Riley*', 66: 'Sandy Cunningham', 23: 'Kathy Hubbart', 2: 'Martha Perry*', 52: 'Melanie Morriss', 81: 'Stefne Miller', 62: 'Pat Timberlake*', 61: 'Elizabeth Smith*', 56: 'Abigail Weigand', 38: 'Ashley Stuart', 24: 'Tanner Davis*', 99: 'Amari Kimbro*', 79: 'Louise Aldridge*', 15: 'Jordan Johnston*', 34: 'Sarah Rivin*', 21: 'Elizabeth Smith', 36: 'Lacy Skrapka', 42: 'Saprina Crostwait*', 46: 'Amari Kimbro', 55: 'Jordan Johnston', 59: 'Natasha Holliday', 68: 'Jan Tupps*', 18: 'Lacy Skrapka*', 14: 'Carla Ray*', 100: 'Carla Ray*', 43: 'Melanie Morriss*', 27: 'Joyce Butler*', 89: 'Sarah Rivin', 10: 'Natasha Holliday*', 1: 'Leslie Smith-Haddad', 33: 'Kathy Hubbart*', 28: 'Martha Perry', 48: 'Sonya Barker*', 74: 'Natasha Holliday*', 44: 'Debra Pearson-Matthews', 77: 'Abigail Weigand*', 87: 'Louise Aldridge*', 32: 'Tammie Wright', 5: 'Tanner Davis', 54: 'Marlene Burbank-Jones', 84: 'Julie Jackson', 64: 'Glenda Mollman*', 57: 'Dee Lemon'})\n",
    "\n",
    "df2.info()\n",
    "df2.head()"
   ]
  },
  {
   "cell_type": "code",
   "execution_count": 77,
   "metadata": {},
   "outputs": [
    {
     "name": "stdout",
     "output_type": "stream",
     "text": [
      "<class 'pandas.core.frame.DataFrame'>\n",
      "Int64Index: 210 entries, 0 to 816\n",
      "Data columns (total 8 columns):\n",
      "House District    210 non-null int64\n",
      "County            210 non-null object\n",
      "agency            210 non-null object\n",
      "Member            210 non-null object\n",
      "Party             210 non-null object\n",
      "Phone             210 non-null object\n",
      "Room              210 non-null object\n",
      "LA Name           210 non-null object\n",
      "dtypes: int64(1), object(7)\n",
      "memory usage: 24.8+ KB\n"
     ]
    },
    {
     "data": {
      "text/html": [
       "<div>\n",
       "<style scoped>\n",
       "    .dataframe tbody tr th:only-of-type {\n",
       "        vertical-align: middle;\n",
       "    }\n",
       "\n",
       "    .dataframe tbody tr th {\n",
       "        vertical-align: top;\n",
       "    }\n",
       "\n",
       "    .dataframe thead th {\n",
       "        text-align: right;\n",
       "    }\n",
       "</style>\n",
       "<table border=\"1\" class=\"dataframe\">\n",
       "  <thead>\n",
       "    <tr style=\"text-align: right;\">\n",
       "      <th></th>\n",
       "      <th>House District</th>\n",
       "      <th>County</th>\n",
       "      <th>agency</th>\n",
       "      <th>Member</th>\n",
       "      <th>Party</th>\n",
       "      <th>Phone</th>\n",
       "      <th>Room</th>\n",
       "      <th>LA Name</th>\n",
       "    </tr>\n",
       "  </thead>\n",
       "  <tbody>\n",
       "    <tr>\n",
       "      <th>0</th>\n",
       "      <td>1</td>\n",
       "      <td>Le Flore</td>\n",
       "      <td>KI BOIS</td>\n",
       "      <td>Tadlock, Johnny</td>\n",
       "      <td>R</td>\n",
       "      <td>(405) 557-7363</td>\n",
       "      <td>409</td>\n",
       "      <td>Leslie Smith-Haddad</td>\n",
       "    </tr>\n",
       "    <tr>\n",
       "      <th>1</th>\n",
       "      <td>1</td>\n",
       "      <td>McCurtain</td>\n",
       "      <td>Little Dixie</td>\n",
       "      <td>Tadlock, Johnny</td>\n",
       "      <td>R</td>\n",
       "      <td>(405) 557-7363</td>\n",
       "      <td>409</td>\n",
       "      <td>Leslie Smith-Haddad</td>\n",
       "    </tr>\n",
       "    <tr>\n",
       "      <th>9</th>\n",
       "      <td>2</td>\n",
       "      <td>Sequoyah</td>\n",
       "      <td>KI BOIS</td>\n",
       "      <td>Olsen, Jim</td>\n",
       "      <td>R</td>\n",
       "      <td>(405) 557-7315</td>\n",
       "      <td>329B</td>\n",
       "      <td>Martha Perry*</td>\n",
       "    </tr>\n",
       "    <tr>\n",
       "      <th>16</th>\n",
       "      <td>3</td>\n",
       "      <td>Le Flore</td>\n",
       "      <td>KI BOIS</td>\n",
       "      <td>Kiger, Lundy</td>\n",
       "      <td>R</td>\n",
       "      <td>(405) 557-7413</td>\n",
       "      <td>405</td>\n",
       "      <td>Sawyer Campbell*</td>\n",
       "    </tr>\n",
       "    <tr>\n",
       "      <th>27</th>\n",
       "      <td>4</td>\n",
       "      <td>Cherokee</td>\n",
       "      <td>NEOCAA</td>\n",
       "      <td>Meredith, Matt</td>\n",
       "      <td>D</td>\n",
       "      <td>(405) 557-7408</td>\n",
       "      <td>541</td>\n",
       "      <td>Connie Riley</td>\n",
       "    </tr>\n",
       "  </tbody>\n",
       "</table>\n",
       "</div>"
      ],
      "text/plain": [
       "    House District     County        agency            Member Party  \\\n",
       "0                1   Le Flore       KI BOIS  Tadlock, Johnny      R   \n",
       "1                1  McCurtain  Little Dixie  Tadlock, Johnny      R   \n",
       "9                2   Sequoyah       KI BOIS       Olsen, Jim      R   \n",
       "16               3   Le Flore       KI BOIS     Kiger, Lundy      R   \n",
       "27               4   Cherokee        NEOCAA   Meredith, Matt      D   \n",
       "\n",
       "             Phone  Room              LA Name  \n",
       "0   (405) 557-7363   409  Leslie Smith-Haddad  \n",
       "1   (405) 557-7363   409  Leslie Smith-Haddad  \n",
       "9   (405) 557-7315  329B        Martha Perry*  \n",
       "16  (405) 557-7413   405     Sawyer Campbell*  \n",
       "27  (405) 557-7408   541         Connie Riley  "
      ]
     },
     "execution_count": 77,
     "metadata": {},
     "output_type": "execute_result"
    }
   ],
   "source": [
    "df2.info()\n",
    "df2.head()"
   ]
  },
  {
   "cell_type": "markdown",
   "metadata": {},
   "source": [
    "Reset the index and save the resulting dataframe to .csv"
   ]
  },
  {
   "cell_type": "code",
   "execution_count": 81,
   "metadata": {},
   "outputs": [
    {
     "name": "stdout",
     "output_type": "stream",
     "text": [
      "<class 'pandas.core.frame.DataFrame'>\n",
      "RangeIndex: 210 entries, 0 to 209\n",
      "Data columns (total 8 columns):\n",
      "House District    210 non-null int64\n",
      "County            210 non-null object\n",
      "agency            210 non-null object\n",
      "Member            210 non-null object\n",
      "Party             210 non-null object\n",
      "Phone             210 non-null object\n",
      "Room              210 non-null object\n",
      "LA Name           210 non-null object\n",
      "dtypes: int64(1), object(7)\n",
      "memory usage: 13.2+ KB\n"
     ]
    },
    {
     "data": {
      "text/html": [
       "<div>\n",
       "<style scoped>\n",
       "    .dataframe tbody tr th:only-of-type {\n",
       "        vertical-align: middle;\n",
       "    }\n",
       "\n",
       "    .dataframe tbody tr th {\n",
       "        vertical-align: top;\n",
       "    }\n",
       "\n",
       "    .dataframe thead th {\n",
       "        text-align: right;\n",
       "    }\n",
       "</style>\n",
       "<table border=\"1\" class=\"dataframe\">\n",
       "  <thead>\n",
       "    <tr style=\"text-align: right;\">\n",
       "      <th></th>\n",
       "      <th>House District</th>\n",
       "      <th>County</th>\n",
       "      <th>agency</th>\n",
       "      <th>Member</th>\n",
       "      <th>Party</th>\n",
       "      <th>Phone</th>\n",
       "      <th>Room</th>\n",
       "      <th>LA Name</th>\n",
       "    </tr>\n",
       "  </thead>\n",
       "  <tbody>\n",
       "    <tr>\n",
       "      <th>0</th>\n",
       "      <td>1</td>\n",
       "      <td>Le Flore</td>\n",
       "      <td>KI BOIS</td>\n",
       "      <td>Tadlock, Johnny</td>\n",
       "      <td>R</td>\n",
       "      <td>(405) 557-7363</td>\n",
       "      <td>409</td>\n",
       "      <td>Leslie Smith-Haddad</td>\n",
       "    </tr>\n",
       "    <tr>\n",
       "      <th>1</th>\n",
       "      <td>1</td>\n",
       "      <td>McCurtain</td>\n",
       "      <td>Little Dixie</td>\n",
       "      <td>Tadlock, Johnny</td>\n",
       "      <td>R</td>\n",
       "      <td>(405) 557-7363</td>\n",
       "      <td>409</td>\n",
       "      <td>Leslie Smith-Haddad</td>\n",
       "    </tr>\n",
       "    <tr>\n",
       "      <th>2</th>\n",
       "      <td>2</td>\n",
       "      <td>Sequoyah</td>\n",
       "      <td>KI BOIS</td>\n",
       "      <td>Olsen, Jim</td>\n",
       "      <td>R</td>\n",
       "      <td>(405) 557-7315</td>\n",
       "      <td>329B</td>\n",
       "      <td>Martha Perry*</td>\n",
       "    </tr>\n",
       "    <tr>\n",
       "      <th>3</th>\n",
       "      <td>3</td>\n",
       "      <td>Le Flore</td>\n",
       "      <td>KI BOIS</td>\n",
       "      <td>Kiger, Lundy</td>\n",
       "      <td>R</td>\n",
       "      <td>(405) 557-7413</td>\n",
       "      <td>405</td>\n",
       "      <td>Sawyer Campbell*</td>\n",
       "    </tr>\n",
       "    <tr>\n",
       "      <th>4</th>\n",
       "      <td>4</td>\n",
       "      <td>Cherokee</td>\n",
       "      <td>NEOCAA</td>\n",
       "      <td>Meredith, Matt</td>\n",
       "      <td>D</td>\n",
       "      <td>(405) 557-7408</td>\n",
       "      <td>541</td>\n",
       "      <td>Connie Riley</td>\n",
       "    </tr>\n",
       "  </tbody>\n",
       "</table>\n",
       "</div>"
      ],
      "text/plain": [
       "   House District     County        agency            Member Party  \\\n",
       "0               1   Le Flore       KI BOIS  Tadlock, Johnny      R   \n",
       "1               1  McCurtain  Little Dixie  Tadlock, Johnny      R   \n",
       "2               2   Sequoyah       KI BOIS       Olsen, Jim      R   \n",
       "3               3   Le Flore       KI BOIS     Kiger, Lundy      R   \n",
       "4               4   Cherokee        NEOCAA   Meredith, Matt      D   \n",
       "\n",
       "            Phone  Room              LA Name  \n",
       "0  (405) 557-7363   409  Leslie Smith-Haddad  \n",
       "1  (405) 557-7363   409  Leslie Smith-Haddad  \n",
       "2  (405) 557-7315  329B        Martha Perry*  \n",
       "3  (405) 557-7413   405     Sawyer Campbell*  \n",
       "4  (405) 557-7408   541         Connie Riley  "
      ]
     },
     "execution_count": 81,
     "metadata": {},
     "output_type": "execute_result"
    }
   ],
   "source": [
    "df2 = df2.reset_index(drop=True)\n",
    "df2.info()\n",
    "df2.head()"
   ]
  },
  {
   "cell_type": "code",
   "execution_count": 82,
   "metadata": {},
   "outputs": [],
   "source": [
    "df2.to_csv('OK_House_by_CAAs.csv')"
   ]
  },
  {
   "cell_type": "code",
   "execution_count": 92,
   "metadata": {
    "scrolled": true
   },
   "outputs": [
    {
     "name": "stdout",
     "output_type": "stream",
     "text": [
      "<class 'pandas.core.frame.DataFrame'>\n",
      "RangeIndex: 210 entries, 0 to 209\n",
      "Data columns (total 8 columns):\n",
      "House District    210 non-null int64\n",
      "County            210 non-null object\n",
      "agency            210 non-null object\n",
      "Member            210 non-null object\n",
      "Party             210 non-null object\n",
      "Phone             210 non-null object\n",
      "Room              210 non-null object\n",
      "LA Name           210 non-null object\n",
      "dtypes: int64(1), object(7)\n",
      "memory usage: 13.2+ KB\n"
     ]
    },
    {
     "data": {
      "text/html": [
       "<div>\n",
       "<style scoped>\n",
       "    .dataframe tbody tr th:only-of-type {\n",
       "        vertical-align: middle;\n",
       "    }\n",
       "\n",
       "    .dataframe tbody tr th {\n",
       "        vertical-align: top;\n",
       "    }\n",
       "\n",
       "    .dataframe thead th {\n",
       "        text-align: right;\n",
       "    }\n",
       "</style>\n",
       "<table border=\"1\" class=\"dataframe\">\n",
       "  <thead>\n",
       "    <tr style=\"text-align: right;\">\n",
       "      <th></th>\n",
       "      <th>House District</th>\n",
       "      <th>County</th>\n",
       "      <th>agency</th>\n",
       "      <th>Member</th>\n",
       "      <th>Party</th>\n",
       "      <th>Phone</th>\n",
       "      <th>Room</th>\n",
       "      <th>LA Name</th>\n",
       "    </tr>\n",
       "  </thead>\n",
       "  <tbody>\n",
       "    <tr>\n",
       "      <th>0</th>\n",
       "      <td>1</td>\n",
       "      <td>Le Flore</td>\n",
       "      <td>KI BOIS</td>\n",
       "      <td>Tadlock, Johnny</td>\n",
       "      <td>R</td>\n",
       "      <td>(405) 557-7363</td>\n",
       "      <td>409</td>\n",
       "      <td>Leslie Smith-Haddad</td>\n",
       "    </tr>\n",
       "    <tr>\n",
       "      <th>1</th>\n",
       "      <td>1</td>\n",
       "      <td>McCurtain</td>\n",
       "      <td>Little Dixie</td>\n",
       "      <td>Tadlock, Johnny</td>\n",
       "      <td>R</td>\n",
       "      <td>(405) 557-7363</td>\n",
       "      <td>409</td>\n",
       "      <td>Leslie Smith-Haddad</td>\n",
       "    </tr>\n",
       "    <tr>\n",
       "      <th>2</th>\n",
       "      <td>2</td>\n",
       "      <td>Sequoyah</td>\n",
       "      <td>KI BOIS</td>\n",
       "      <td>Olsen, Jim</td>\n",
       "      <td>R</td>\n",
       "      <td>(405) 557-7315</td>\n",
       "      <td>329B</td>\n",
       "      <td>Martha Perry*</td>\n",
       "    </tr>\n",
       "    <tr>\n",
       "      <th>3</th>\n",
       "      <td>3</td>\n",
       "      <td>Le Flore</td>\n",
       "      <td>KI BOIS</td>\n",
       "      <td>Kiger, Lundy</td>\n",
       "      <td>R</td>\n",
       "      <td>(405) 557-7413</td>\n",
       "      <td>405</td>\n",
       "      <td>Sawyer Campbell*</td>\n",
       "    </tr>\n",
       "    <tr>\n",
       "      <th>4</th>\n",
       "      <td>4</td>\n",
       "      <td>Cherokee</td>\n",
       "      <td>NEOCAA</td>\n",
       "      <td>Meredith, Matt</td>\n",
       "      <td>D</td>\n",
       "      <td>(405) 557-7408</td>\n",
       "      <td>541</td>\n",
       "      <td>Connie Riley</td>\n",
       "    </tr>\n",
       "  </tbody>\n",
       "</table>\n",
       "</div>"
      ],
      "text/plain": [
       "   House District     County        agency            Member Party  \\\n",
       "0               1   Le Flore       KI BOIS  Tadlock, Johnny      R   \n",
       "1               1  McCurtain  Little Dixie  Tadlock, Johnny      R   \n",
       "2               2   Sequoyah       KI BOIS       Olsen, Jim      R   \n",
       "3               3   Le Flore       KI BOIS     Kiger, Lundy      R   \n",
       "4               4   Cherokee        NEOCAA   Meredith, Matt      D   \n",
       "\n",
       "            Phone  Room              LA Name  \n",
       "0  (405) 557-7363   409  Leslie Smith-Haddad  \n",
       "1  (405) 557-7363   409  Leslie Smith-Haddad  \n",
       "2  (405) 557-7315  329B        Martha Perry*  \n",
       "3  (405) 557-7413   405     Sawyer Campbell*  \n",
       "4  (405) 557-7408   541         Connie Riley  "
      ]
     },
     "execution_count": 92,
     "metadata": {},
     "output_type": "execute_result"
    }
   ],
   "source": [
    "df2.info()\n",
    "df2.head()"
   ]
  },
  {
   "cell_type": "markdown",
   "metadata": {},
   "source": [
    "### Group the dataframe by the 'agency' column and save each group by object to a .csv"
   ]
  },
  {
   "cell_type": "code",
   "execution_count": 93,
   "metadata": {},
   "outputs": [
    {
     "data": {
      "text/plain": [
       "<pandas.core.groupby.generic.DataFrameGroupBy object at 0x00000257891AE6A0>"
      ]
     },
     "execution_count": 93,
     "metadata": {},
     "output_type": "execute_result"
    }
   ],
   "source": [
    "x = df2.groupby(by=df2.agency)\n",
    "x"
   ]
  },
  {
   "cell_type": "code",
   "execution_count": 94,
   "metadata": {
    "scrolled": true
   },
   "outputs": [
    {
     "data": {
      "text/plain": [
       "{'Big 5': Int64Index([39, 44, 51, 62, 108, 111, 112], dtype='int64'),\n",
       " 'CAAOKC': Int64Index([ 73,  93,  95,  98, 101, 106, 125, 137, 144, 149, 185, 186, 187,\n",
       "             188, 189, 193, 194, 195, 197, 199, 200, 201, 202, 203, 204, 207,\n",
       "             208, 209],\n",
       "            dtype='int64'),\n",
       " 'CADC': Int64Index([114, 122, 126, 128, 129, 130, 133, 134, 158, 162], dtype='int64'),\n",
       " 'CAP Tulsa': Int64Index([ 20,  34,  57,  69,  71,  85, 166, 167, 168, 169, 170, 171, 172,\n",
       "             174, 176, 177, 178, 180, 181, 182, 183, 205],\n",
       "            dtype='int64'),\n",
       " 'CARD': Int64Index([6, 8, 9, 12, 13, 14, 15, 16, 18, 19, 21, 22, 35, 56, 58, 175, 179,\n",
       "             184, 206],\n",
       "            dtype='int64'),\n",
       " 'CDSA': Int64Index([88, 89, 94, 96], dtype='int64'),\n",
       " 'COCAA': Int64Index([ 47,  50,  63,  64,  65,  66,  67,  72,  74,  75,  76,  77,  78,\n",
       "              83,  91, 102, 103, 104, 123, 124, 196, 198],\n",
       "            dtype='int64'),\n",
       " 'DFCAF': Int64Index([23, 29, 33, 40, 41, 59, 60, 61], dtype='int64'),\n",
       " 'Delta': Int64Index([48, 49, 53, 99, 100, 105, 109, 115, 117, 118, 164], dtype='int64'),\n",
       " 'GPIF': Int64Index([156, 157, 159, 161], dtype='int64'),\n",
       " 'INCA': Int64Index([43, 52, 54, 55, 110, 113], dtype='int64'),\n",
       " 'KI BOIS': Int64Index([0, 2, 3, 24, 26, 27, 28, 30, 31, 32, 36, 37, 38, 42], dtype='int64'),\n",
       " 'Little Dixie': Int64Index([1, 45, 46], dtype='int64'),\n",
       " 'NEOCAA': Int64Index([4, 5, 7, 10, 11, 25, 190, 191, 192], dtype='int64'),\n",
       " 'Opportunities': Int64Index([ 97, 135, 138, 139, 140, 141, 142, 143, 145, 146, 147, 150, 151,\n",
       "             152, 153, 154, 155],\n",
       "            dtype='int64'),\n",
       " 'SOCAG': Int64Index([119, 120, 121, 127], dtype='int64'),\n",
       " 'UCAP': Int64Index([17, 68, 70, 79, 80, 81, 82, 84, 86, 87, 90, 92, 165, 173], dtype='int64'),\n",
       " 'WVCAC': Int64Index([107, 116, 131, 132, 136, 148, 160, 163], dtype='int64')}"
      ]
     },
     "execution_count": 94,
     "metadata": {},
     "output_type": "execute_result"
    }
   ],
   "source": [
    "x.groups"
   ]
  },
  {
   "cell_type": "code",
   "execution_count": 112,
   "metadata": {},
   "outputs": [
    {
     "name": "stdout",
     "output_type": "stream",
     "text": [
      "Big 5\n",
      "CAAOKC\n",
      "CADC\n",
      "CAP Tulsa\n",
      "CARD\n",
      "CDSA\n",
      "COCAA\n",
      "DFCAF\n",
      "Delta\n",
      "GPIF\n",
      "INCA\n",
      "KI BOIS\n",
      "Little Dixie\n",
      "NEOCAA\n",
      "Opportunities\n",
      "SOCAG\n",
      "UCAP\n",
      "WVCAC\n"
     ]
    }
   ],
   "source": [
    "for name, group, in x:\n",
    "    print(name)"
   ]
  },
  {
   "cell_type": "code",
   "execution_count": 141,
   "metadata": {},
   "outputs": [],
   "source": [
    "b5 = x.get_group('Big 5')\n",
    "b5.to_csv('Big5.csv', index=False)\n",
    "\n",
    "okc = x.get_group('CAAOKC')\n",
    "okc.to_csv('CAAOKC.csv', index=False)\n",
    "\n",
    "cadc = x.get_group('CADC')\n",
    "cadc.to_csv('CADC.csv', index=False)\n",
    "\n",
    "capt = x.get_group('CAP Tulsa')\n",
    "capt.to_csv('CAPTulsa.csv', index=False)\n",
    "\n",
    "card = x.get_group('CARD')\n",
    "card.to_csv('CARD.csv', index=False)\n",
    "\n",
    "cdsa = x.get_group('CDSA')\n",
    "cdsa.to_csv('CDSA.csv', index=False)\n",
    "\n",
    "coca = x.get_group('COCAA')\n",
    "coca.to_csv('COCAA.csv', index=False)\n",
    "\n",
    "dfca = x.get_group('DFCAF')\n",
    "dfca.to_csv('DFCAF.csv', index=False)\n",
    "\n",
    "delt = x.get_group('Delta')\n",
    "delt.to_csv('Delta.csv', index=False)\n",
    "\n",
    "gpi = x.get_group('GPIF')\n",
    "gpi.to_csv('GPIF.csv', index=False)\n",
    "\n",
    "inc = x.get_group('INCA')\n",
    "inc.to_csv('INCA.csv', index=False)\n",
    "\n",
    "kb = x.get_group('KI BOIS')\n",
    "kb.to_csv('KIBOIS.csv', index=False)\n",
    "\n",
    "ld = x.get_group('Little Dixie')\n",
    "ld.to_csv('LittleDixie.csv', index=False)\n",
    "\n",
    "neo = x.get_group('NEOCAA')\n",
    "neo.to_csv('NEOCAA.csv', index=False)\n",
    "\n",
    "opp = x.get_group('Opportunities')\n",
    "opp.to_csv('Opportunities.csv', index=False)\n",
    "\n",
    "soc = x.get_group('SOCAG')\n",
    "soc.to_csv('SOCAG.csv', index=False)\n",
    "\n",
    "uca = x.get_group('UCAP')\n",
    "uca.to_csv('UCAP.csv', index=False)\n",
    "\n",
    "wvc = x.get_group('WVCAC')\n",
    "wvc.to_csv('WVCAC.csv', index=False)"
   ]
  },
  {
   "cell_type": "markdown",
   "metadata": {},
   "source": [
    "### Check to see if all House Members are in the dataframe. \n",
    "\n",
    "There should be 101, one for each district."
   ]
  },
  {
   "cell_type": "code",
   "execution_count": 139,
   "metadata": {},
   "outputs": [
    {
     "data": {
      "text/plain": [
       "101"
      ]
     },
     "execution_count": 139,
     "metadata": {},
     "output_type": "execute_result"
    }
   ],
   "source": [
    "df2.Member.nunique()"
   ]
  },
  {
   "cell_type": "code",
   "execution_count": null,
   "metadata": {},
   "outputs": [],
   "source": []
  }
 ],
 "metadata": {
  "kernelspec": {
   "display_name": "Python 3",
   "language": "python",
   "name": "python3"
  },
  "language_info": {
   "codemirror_mode": {
    "name": "ipython",
    "version": 3
   },
   "file_extension": ".py",
   "mimetype": "text/x-python",
   "name": "python",
   "nbconvert_exporter": "python",
   "pygments_lexer": "ipython3",
   "version": "3.7.3"
  }
 },
 "nbformat": 4,
 "nbformat_minor": 2
}
